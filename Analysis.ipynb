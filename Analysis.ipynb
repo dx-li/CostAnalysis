{
 "cells": [
  {
   "cell_type": "raw",
   "metadata": {
    "vscode": {
     "languageId": "raw"
    }
   },
   "source": [
    "---\n",
    "title: \"Empirical analysis of order flow in selected Binance perpetual futures\"\n",
    "format:\n",
    "  html:\n",
    "    toc: true\n",
    "    code-fold: show\n",
    "    code-tools: true\n",
    "jupyter: python3\n",
    "---"
   ]
  },
  {
   "cell_type": "markdown",
   "metadata": {},
   "source": [
    "# Introduction"
   ]
  },
  {
   "cell_type": "markdown",
   "metadata": {},
   "source": [
    "The goal of this notebook is to follow some of the analysis of the paper \"The price impact of order book events\" by Cont, Kukanov, and Stoikov (2012). The later sections, however, do stray away from their analysis slightly. The paper is available [here](https://papers.ssrn.com/sol3/papers.cfm?abstract_id=1712822). Essentially, their paper studies order flow imbalance (OFI) and price impact with empirical analysis on randomly selected US stocks, finding OFI statistically significant in a linear model of instataneous price impact (admittedly, under an idealized order book model). Instead of US stock data, we will be using order book data from Binance (available [here](https://www.binance.com/en/landing/data)) for perpetual coin-denominated futures contracts for Bitcoin, Ethereum, and Solana during the period of January 2024 - May 2024. These three were chosen for being high volume traded cryptocurrencies on an overall scale, but analysis of lower volume coins could be of interest as well. Let us define some terms from the paper before we begin."
   ]
  },
  {
   "cell_type": "markdown",
   "metadata": {},
   "source": [
    "Denote $\\delta$ to be the tick size. Consider a time interval $[t_{k-1}, t_k]$, let $P^b_k$ be the bid price at time $t_k$ and $P^s_k$ be the respective ask price. Let $P_k = \\frac{P_k^b + P_k^s}{2 \\delta}$ be the tick-size normalized midprice and denote $\\Delta P_k = P_k - P_{k-1}$ to be the midprice change. The tickers data from Binance contains the best bid and best ask price with their respective quantities at every tick. To calculate OFI, firstly consider the observations $(P_n^b, q_n^b, P_n^s, q_n^s)$ where $n$ indexes each tick. Let \n",
    "$$\n",
    "e_n = q_n^b \\text{ind}(P_n^b \\geq P_{n-1}^b) - q_{n-1}^b \\text{ind}(P_n^b \\leq P_{n-1}^b) - q_n^s \\text{ind}(P_n^s \\leq P_{n-1}^s) + q_{n-1}^s \\text{ind}(P_n^s \\geq P_{n-1}^s)\n",
    "$$\n",
    "reprsent the signed contributions of order book events to supply/demand. \n",
    "\n",
    "Next, the paper considers the two uniform time grids $\\{T_0, ..., T_I\\}$ and $\\{t_{0,0}, ..., t_{I,K}\\}$ with $T_i - T_{i-1} = 30$ minutes and $t_{k,i} - t_{k-1,i} = 10$ seconds. Take $N()$ to be a function such that $N(t_{k-1,i}) + 1$ and $N(t_{k,i})$ are the index of the first and last order book event in the interval $[t_{k-1, i}, t_{k, i}]$  Then within a large interval $[T_{i-1}, T_i]$, we have\n",
    "$$\\Delta P_{k,i} = \\frac{P_{N(t_{k,i})}^b + P_{N(t_{k,i})}^s}{2 \\delta} - \\frac{P_{N(t_{k-1,i})}^b + P_{N(t_{k-1,i})}^s}{2 \\delta}\n",
    "$$ \n",
    "and \n",
    "$$\\text{OFI}_{k,i} = \\sum_{n=N(t_{k-1,i})+1}^{N(t_{k,i})} e_n\n",
    "$$ The paper then considers the regression model"
   ]
  },
  {
   "cell_type": "markdown",
   "metadata": {},
   "source": [
    "The paper also defines an estimator for depth in their stylized model on the interval $[T_{i-1}, T_i]$ as\n",
    "$$\n",
    "D_i = \\frac{1}{2} \\left[ \n",
    "\\frac{\n",
    "\\sum_{n=N(T_{i-1})+1}^{N(T_i)} \\left( q_n^b \\text{ind}\\left( P_n^b < P_{n-1}^b \\right) + q_{n-1}^b \\text{ind}\\left( P_n^b > P_{n-1}^b \\right) \\right)\n",
    "}{\n",
    "\\sum_{n=N(T_{i-1})+1}^{N(T_i)} \\text{ind}\\left( P_n^b \\neq P_{n-1}^b \\right)\n",
    "} + \n",
    "\\frac{\n",
    "\\sum_{n=N(T_{i-1})+1}^{N(T_i)} \\left( q_n^s \\text{ind}\\left( P_n^s > P_{n-1}^s \\right) + q_{n-1}^s \\text{ind}\\left( P_n^s < P_{n-1}^s \\right) \\right)\n",
    "}{\n",
    "\\sum_{n=N(T_{i-1})+1}^{N(T_i)} \\text{ind}\\left( P_n^s \\neq P_{n-1}^s \\right)\n",
    "}\n",
    "\\right]\n",
    "$$\n",
    "I will not be considering the depth estimator in this notebook, but it could be of interest to consider in the future."
   ]
  },
  {
   "cell_type": "markdown",
   "metadata": {
    "vscode": {
     "languageId": "raw"
    }
   },
   "source": [
    "The model that the paper posits is \n",
    "$$\n",
    "\\Delta P_{k,i} = \\beta_i \\text{OFI}_{k,i} + \\epsilon_{k,i}\n",
    "$$\n",
    "where one can interpret it as a linear model of the instantaneous price impact of order book events arriving within the interval $[t_{k-1}, t_k]$.\n",
    "We will estimate it for the three perpectual contracts with OLS. There are some practical shortcomings with this model. But we will proceed with it for now. Later, we will consider adjustments to the model."
   ]
  },
  {
   "cell_type": "markdown",
   "metadata": {},
   "source": [
    "# Data processing\n",
    "In this section, I will walk through the process I use to prepare the data for statistical modeling. The data downloaded from Binance comes as a series of csv files, each containing the order book data for a single month. Here is a sample of the data:"
   ]
  },
  {
   "cell_type": "code",
   "execution_count": 1,
   "metadata": {},
   "outputs": [],
   "source": [
    "# | code-fold: true\n",
    "import duckdb\n",
    "import polars as pl\n",
    "import glob\n",
    "import os"
   ]
  },
  {
   "cell_type": "code",
   "execution_count": 2,
   "metadata": {},
   "outputs": [
    {
     "data": {
      "text/html": [
       "<div><style>\n",
       ".dataframe > thead > tr,\n",
       ".dataframe > tbody > tr {\n",
       "  text-align: right;\n",
       "  white-space: pre-wrap;\n",
       "}\n",
       "</style>\n",
       "<small>shape: (5, 7)</small><table border=\"1\" class=\"dataframe\"><thead><tr><th>update_id</th><th>best_bid_price</th><th>best_bid_qty</th><th>best_ask_price</th><th>best_ask_qty</th><th>transaction_time</th><th>event_time</th></tr><tr><td>i64</td><td>f64</td><td>f64</td><td>f64</td><td>f64</td><td>i64</td><td>i64</td></tr></thead><tbody><tr><td>820182436406</td><td>42305.4</td><td>2672.0</td><td>42305.5</td><td>2584.0</td><td>1704067200007</td><td>1704067200013</td></tr><tr><td>847746096711</td><td>42773.0</td><td>3493.0</td><td>42773.1</td><td>230.0</td><td>1706664547018</td><td>1706664547024</td></tr><tr><td>820182436440</td><td>42305.4</td><td>3863.0</td><td>42305.5</td><td>2584.0</td><td>1704067200010</td><td>1704067200016</td></tr><tr><td>847746096760</td><td>42773.0</td><td>3639.0</td><td>42773.1</td><td>230.0</td><td>1706664547020</td><td>1706664547027</td></tr><tr><td>820182436494</td><td>42305.4</td><td>4739.0</td><td>42305.5</td><td>2584.0</td><td>1704067200012</td><td>1704067200024</td></tr></tbody></table></div>"
      ],
      "text/plain": [
       "shape: (5, 7)\n",
       "┌──────────────┬─────────────┬─────────────┬─────────────┬─────────────┬─────────────┬─────────────┐\n",
       "│ update_id    ┆ best_bid_pr ┆ best_bid_qt ┆ best_ask_pr ┆ best_ask_qt ┆ transaction ┆ event_time  │\n",
       "│ ---          ┆ ice         ┆ y           ┆ ice         ┆ y           ┆ _time       ┆ ---         │\n",
       "│ i64          ┆ ---         ┆ ---         ┆ ---         ┆ ---         ┆ ---         ┆ i64         │\n",
       "│              ┆ f64         ┆ f64         ┆ f64         ┆ f64         ┆ i64         ┆             │\n",
       "╞══════════════╪═════════════╪═════════════╪═════════════╪═════════════╪═════════════╪═════════════╡\n",
       "│ 820182436406 ┆ 42305.4     ┆ 2672.0      ┆ 42305.5     ┆ 2584.0      ┆ 17040672000 ┆ 17040672000 │\n",
       "│              ┆             ┆             ┆             ┆             ┆ 07          ┆ 13          │\n",
       "│ 847746096711 ┆ 42773.0     ┆ 3493.0      ┆ 42773.1     ┆ 230.0       ┆ 17066645470 ┆ 17066645470 │\n",
       "│              ┆             ┆             ┆             ┆             ┆ 18          ┆ 24          │\n",
       "│ 820182436440 ┆ 42305.4     ┆ 3863.0      ┆ 42305.5     ┆ 2584.0      ┆ 17040672000 ┆ 17040672000 │\n",
       "│              ┆             ┆             ┆             ┆             ┆ 10          ┆ 16          │\n",
       "│ 847746096760 ┆ 42773.0     ┆ 3639.0      ┆ 42773.1     ┆ 230.0       ┆ 17066645470 ┆ 17066645470 │\n",
       "│              ┆             ┆             ┆             ┆             ┆ 20          ┆ 27          │\n",
       "│ 820182436494 ┆ 42305.4     ┆ 4739.0      ┆ 42305.5     ┆ 2584.0      ┆ 17040672000 ┆ 17040672000 │\n",
       "│              ┆             ┆             ┆             ┆             ┆ 12          ┆ 24          │\n",
       "└──────────────┴─────────────┴─────────────┴─────────────┴─────────────┴─────────────┴─────────────┘"
      ]
     },
     "execution_count": 2,
     "metadata": {},
     "output_type": "execute_result"
    }
   ],
   "source": [
    "pl.scan_csv(\"./data/ticker/BTCUSD_PERP-bookTicker-2024-01.csv\").head(5).collect()"
   ]
  },
  {
   "cell_type": "markdown",
   "metadata": {},
   "source": [
    "I will go through the data processing steps using BTCUSD_PERP. The same steps will be applied to ETHUSD_PERP and SOLUSD_PERP. Firstly, I will load the data into a DuckDB database since my RAM is limited. I think this might not be the most efficient format for timeseries, but it's the easiest for me to setup for ingestion. Also, I'm not a SQL expert, so the following queries probably have optimizations. During the process, I will transform the transaction_time and event_time columns into timestamps and calculate the midprices. The distinction between transaction_time and event_time is that the former is when the data got recorded and the latter is when the data is pushed out from the server (see the discussion [here](https://dev.binance.vision/t/meaning-of-event-time-transaction-time-fields/5449) or [here](https://dev.binance.vision/t/add-event-time-field-to-spot-websocket-book-streams/1390)). The difference between the two is on the order of milliseconds, so I suspect that it's negligible for our purposes as we will be aggregating on a 10s scale."
   ]
  },
  {
   "cell_type": "code",
   "execution_count": 3,
   "metadata": {},
   "outputs": [
    {
     "data": {
      "text/plain": [
       "<duckdb.duckdb.DuckDBPyConnection at 0x10ba20d70>"
      ]
     },
     "execution_count": 3,
     "metadata": {},
     "output_type": "execute_result"
    }
   ],
   "source": [
    "symbol = \"BTCUSD_PERP\"\n",
    "tick_size = 0.1\n",
    "data_dir = \"./data/ticker\"\n",
    "files = sorted(glob.glob(f\"{data_dir}/{symbol}*.csv\"))\n",
    "con = duckdb.connect(f\"{data_dir}/{symbol}.db\")\n",
    "cols = f\"update_id, best_bid_price, best_bid_qty, best_ask_price, best_ask_qty, \\\n",
    "        ROUND((best_bid_price + best_ask_price) / (2 * {tick_size}), 1) AS mid_price, \\\n",
    "        EPOCH_MS(event_time) AS event_time, EPOCH_MS(transaction_time) AS transaction_time, \\\n",
    "        'BTCUSD_PERP' AS symbol\"\n",
    "query = f\"\"\"\\\n",
    "        CREATE TABLE tick AS SELECT {cols} \n",
    "        FROM read_csv({files})\n",
    "        \"\"\"\n",
    "con.execute(query)"
   ]
  },
  {
   "cell_type": "markdown",
   "metadata": {},
   "source": [
    "Let's take a quick look at what the data looks like now."
   ]
  },
  {
   "cell_type": "code",
   "execution_count": 4,
   "metadata": {},
   "outputs": [
    {
     "data": {
      "text/plain": [
       "┌──────────────┬────────────────┬──────────────┬───┬──────────────────────┬──────────────────────┬─────────────┐\n",
       "│  update_id   │ best_bid_price │ best_bid_qty │ … │      event_time      │   transaction_time   │   symbol    │\n",
       "│    int64     │     double     │    double    │   │      timestamp       │      timestamp       │   varchar   │\n",
       "├──────────────┼────────────────┼──────────────┼───┼──────────────────────┼──────────────────────┼─────────────┤\n",
       "│ 820182436406 │        42305.4 │       2672.0 │ … │ 2024-01-01 00:00:0…  │ 2024-01-01 00:00:0…  │ BTCUSD_PERP │\n",
       "│ 847746096711 │        42773.0 │       3493.0 │ … │ 2024-01-31 01:29:0…  │ 2024-01-31 01:29:0…  │ BTCUSD_PERP │\n",
       "│ 820182436440 │        42305.4 │       3863.0 │ … │ 2024-01-01 00:00:0…  │ 2024-01-01 00:00:0…  │ BTCUSD_PERP │\n",
       "│ 847746096760 │        42773.0 │       3639.0 │ … │ 2024-01-31 01:29:0…  │ 2024-01-31 01:29:0…  │ BTCUSD_PERP │\n",
       "│ 820182436494 │        42305.4 │       4739.0 │ … │ 2024-01-01 00:00:0…  │ 2024-01-01 00:00:0…  │ BTCUSD_PERP │\n",
       "├──────────────┴────────────────┴──────────────┴───┴──────────────────────┴──────────────────────┴─────────────┤\n",
       "│ 5 rows                                                                                   9 columns (6 shown) │\n",
       "└──────────────────────────────────────────────────────────────────────────────────────────────────────────────┘"
      ]
     },
     "execution_count": 4,
     "metadata": {},
     "output_type": "execute_result"
    }
   ],
   "source": [
    "con.sql(\"SELECT * FROM tick LIMIT 5\")"
   ]
  },
  {
   "cell_type": "code",
   "execution_count": 5,
   "metadata": {},
   "outputs": [
    {
     "data": {
      "text/plain": [
       "┌───────────┐\n",
       "│ mid_price │\n",
       "│  double   │\n",
       "├───────────┤\n",
       "│  423054.5 │\n",
       "│  427730.5 │\n",
       "│  423054.5 │\n",
       "│  427730.5 │\n",
       "│  423054.5 │\n",
       "│  427730.5 │\n",
       "│  423054.5 │\n",
       "│  427730.5 │\n",
       "│  423054.5 │\n",
       "│  427730.5 │\n",
       "├───────────┤\n",
       "│  10 rows  │\n",
       "└───────────┘"
      ]
     },
     "execution_count": 5,
     "metadata": {},
     "output_type": "execute_result"
    }
   ],
   "source": [
    "con.sql(\"SELECT mid_price from tick LIMIT 10\")"
   ]
  },
  {
   "cell_type": "code",
   "execution_count": 6,
   "metadata": {},
   "outputs": [
    {
     "data": {
      "text/plain": [
       "┌──────────────────┐\n",
       "│ count(update_id) │\n",
       "│      int64       │\n",
       "├──────────────────┤\n",
       "│        821486019 │\n",
       "└──────────────────┘"
      ]
     },
     "execution_count": 6,
     "metadata": {},
     "output_type": "execute_result"
    }
   ],
   "source": [
    "con.sql(\"SELECT count(update_id) FROM tick\")"
   ]
  },
  {
   "cell_type": "markdown",
   "metadata": {},
   "source": [
    "Now I will calculate the $e_n$ as defined above."
   ]
  },
  {
   "cell_type": "code",
   "execution_count": 7,
   "metadata": {},
   "outputs": [
    {
     "data": {
      "text/plain": [
       "<duckdb.duckdb.DuckDBPyConnection at 0x10ba20d70>"
      ]
     },
     "execution_count": 7,
     "metadata": {},
     "output_type": "execute_result"
    }
   ],
   "source": [
    "calculation = f\"\"\"\\\n",
    "                WITH cte AS (\n",
    "                SELECT \n",
    "                        best_bid_qty AS q_b_n,\n",
    "                        LAG(best_bid_qty, 1) OVER (ORDER BY transaction_time, update_id) AS q_b_n_minus_1,\n",
    "                        best_ask_qty AS q_s_n,\n",
    "                        LAG(best_ask_qty, 1) OVER (ORDER BY transaction_time, update_id) AS q_s_n_minus_1,\n",
    "                        best_bid_price AS P_b_n,\n",
    "                        LAG(best_bid_price, 1) OVER (ORDER BY transaction_time, update_id) AS P_b_n_minus_1,\n",
    "                        best_ask_price AS P_s_n,\n",
    "                        LAG(best_ask_price, 1) OVER (ORDER BY transaction_time, update_id) AS P_s_n_minus_1,\n",
    "                        mid_price,\n",
    "                        LAG (mid_price, 1) OVER (ORDER BY transaction_time, update_id) AS mid_price_lag,\n",
    "                        transaction_time,\n",
    "                        update_id,\n",
    "                        symbol\n",
    "                FROM tick\n",
    "                )\n",
    "                SELECT \n",
    "                (\n",
    "                        q_b_n * CASE WHEN P_b_n >= P_b_n_minus_1 THEN 1 ELSE 0 END\n",
    "                        - q_b_n_minus_1 * CASE WHEN P_b_n <= P_b_n_minus_1 THEN 1 ELSE 0 END\n",
    "                        - q_s_n * CASE WHEN P_s_n <= P_s_n_minus_1 THEN 1 ELSE 0 END\n",
    "                        + q_s_n_minus_1 * CASE WHEN P_s_n >= P_s_n_minus_1 THEN 1 ELSE 0 END\n",
    "                ) AS e_n,\n",
    "                mid_price - mid_price_lag AS mid_price_change,\n",
    "                transaction_time,\n",
    "                symbol\n",
    "                FROM \n",
    "                cte\n",
    "                ORDER BY transaction_time, update_id\n",
    "                \"\"\"\n",
    "query = f\"\"\"\\\n",
    "        CREATE TABLE rolling AS\n",
    "        {calculation}\n",
    "        \"\"\"\n",
    "con.execute(query)"
   ]
  },
  {
   "cell_type": "markdown",
   "metadata": {},
   "source": [
    "The resulting table looks like this:"
   ]
  },
  {
   "cell_type": "code",
   "execution_count": 8,
   "metadata": {},
   "outputs": [
    {
     "data": {
      "text/plain": [
       "┌────────┬──────────────────┬─────────────────────────┬─────────────┐\n",
       "│  e_n   │ mid_price_change │    transaction_time     │   symbol    │\n",
       "│ double │      double      │        timestamp        │   varchar   │\n",
       "├────────┼──────────────────┼─────────────────────────┼─────────────┤\n",
       "│   NULL │             NULL │ 2024-01-01 00:00:00.007 │ BTCUSD_PERP │\n",
       "│ 1191.0 │              0.0 │ 2024-01-01 00:00:00.01  │ BTCUSD_PERP │\n",
       "│  876.0 │              0.0 │ 2024-01-01 00:00:00.012 │ BTCUSD_PERP │\n",
       "│  550.0 │              0.0 │ 2024-01-01 00:00:00.014 │ BTCUSD_PERP │\n",
       "│    5.0 │              0.0 │ 2024-01-01 00:00:00.015 │ BTCUSD_PERP │\n",
       "└────────┴──────────────────┴─────────────────────────┴─────────────┘"
      ]
     },
     "execution_count": 8,
     "metadata": {},
     "output_type": "execute_result"
    }
   ],
   "source": [
    "con.sql(\"SELECT * FROM rolling LIMIT 5\")"
   ]
  },
  {
   "cell_type": "markdown",
   "metadata": {},
   "source": [
    "Finally, let's aggregate the data into 10s intervals and calculate the OFI and midprice changes. I'll do $(t_{k-1}, t_k]$ so that the midprice change is calculated close to close."
   ]
  },
  {
   "cell_type": "code",
   "execution_count": 9,
   "metadata": {},
   "outputs": [
    {
     "data": {
      "text/plain": [
       "<duckdb.duckdb.DuckDBPyConnection at 0x10ba20d70>"
      ]
     },
     "execution_count": 9,
     "metadata": {},
     "output_type": "execute_result"
    }
   ],
   "source": [
    "query = f\"\"\"\\\n",
    "        CREATE TABLE agg_10s AS\n",
    "        WITH min_time_tbl AS (\n",
    "                SELECT date_trunc('year', MIN(transaction_time)) AS min_time\n",
    "                FROM rolling\n",
    "        )\n",
    "        SELECT \n",
    "        (\n",
    "                 min_time + INTERVAL '10 seconds' * (FLOOR(DATE_PART('epoch', transaction_time - min_time) / 10) + 1)::INT\n",
    "        ) AS time_bucket_end,\n",
    "        SUM(e_n) AS order_flow_imbalance,\n",
    "        SUM(mid_price_change) AS mid_price_change,\n",
    "        symbol,\n",
    "        COUNT(*) AS num_ticks\n",
    "        FROM rolling, min_time_tbl\n",
    "        GROUP BY symbol, min_time + INTERVAL '10 seconds' * (FLOOR(DATE_PART('epoch', transaction_time - min_time) / 10) + 1)::INT\n",
    "        ORDER BY time_bucket_end\n",
    "        \"\"\"\n",
    "con.execute(query)"
   ]
  },
  {
   "cell_type": "markdown",
   "metadata": {},
   "source": [
    "Let's take a quick look at the data to make sure everything looks good."
   ]
  },
  {
   "cell_type": "code",
   "execution_count": 10,
   "metadata": {},
   "outputs": [
    {
     "data": {
      "text/plain": [
       "┌─────────────────────┬──────────────────────┬──────────────────┬─────────────┬───────────┐\n",
       "│   time_bucket_end   │ order_flow_imbalance │ mid_price_change │   symbol    │ num_ticks │\n",
       "│      timestamp      │        double        │      double      │   varchar   │   int64   │\n",
       "├─────────────────────┼──────────────────────┼──────────────────┼─────────────┼───────────┤\n",
       "│ 2024-01-01 00:00:10 │             -56352.0 │           -171.0 │ BTCUSD_PERP │       898 │\n",
       "│ 2024-01-01 00:00:20 │                777.0 │              8.0 │ BTCUSD_PERP │       692 │\n",
       "│ 2024-01-01 00:00:30 │              23537.0 │            112.0 │ BTCUSD_PERP │       624 │\n",
       "│ 2024-01-01 00:00:40 │              56473.0 │            133.0 │ BTCUSD_PERP │       861 │\n",
       "│ 2024-01-01 00:00:50 │               1594.0 │              0.0 │ BTCUSD_PERP │       364 │\n",
       "└─────────────────────┴──────────────────────┴──────────────────┴─────────────┴───────────┘"
      ]
     },
     "execution_count": 10,
     "metadata": {},
     "output_type": "execute_result"
    }
   ],
   "source": [
    "con.sql(\"SELECT * FROM agg_10s LIMIT 5\")"
   ]
  },
  {
   "cell_type": "code",
   "execution_count": 11,
   "metadata": {},
   "outputs": [],
   "source": [
    "con.close()"
   ]
  },
  {
   "cell_type": "markdown",
   "metadata": {},
   "source": [
    "Now I'll repeat the process for ETHUSD_PERP and SOLUSD_PERP."
   ]
  },
  {
   "cell_type": "code",
   "execution_count": 12,
   "metadata": {},
   "outputs": [
    {
     "name": "stderr",
     "output_type": "stream",
     "text": [
      "INFO:root:Creating database for ETHUSD_PERP\n",
      "INFO:root:Created tick table\n",
      "INFO:root:Created rolling table\n",
      "INFO:root:Created agg_10s table\n",
      "INFO:root:Finished creating database for ETHUSD_PERP\n",
      "INFO:root:Creating database for SOLUSD_PERP\n",
      "INFO:root:Created tick table\n",
      "INFO:root:Created rolling table\n",
      "INFO:root:Created agg_10s table\n",
      "INFO:root:Finished creating database for SOLUSD_PERP\n"
     ]
    }
   ],
   "source": [
    "# | code-fold: true\n",
    "import logging\n",
    "\n",
    "\n",
    "def create_db(symbol, data_dir, tick_size):\n",
    "    logging.basicConfig(level=logging.INFO)\n",
    "    logging.info(f\"Creating database for {symbol}\")\n",
    "    files = sorted(glob.glob(f\"{data_dir}/{symbol}*.csv\"))\n",
    "    with duckdb.connect(f\"{data_dir}/{symbol}.db\") as con:\n",
    "        cols = f\"update_id, best_bid_price, best_bid_qty, best_ask_price, best_ask_qty, \\\n",
    "                        ROUND((best_bid_price + best_ask_price) / (2 * {tick_size}), 1) AS mid_price, \\\n",
    "                        EPOCH_MS(event_time) AS event_time, EPOCH_MS(transaction_time) AS transaction_time, \\\n",
    "                        '{symbol}' AS symbol\"\n",
    "        query = f\"\"\"\\\n",
    "                        CREATE TABLE tick AS SELECT {cols} \n",
    "                        FROM read_csv({files})\n",
    "                        \"\"\"\n",
    "        con.execute(query)\n",
    "        logging.info(\"Created tick table\")\n",
    "        calculation = f\"\"\"\\\n",
    "                        WITH cte AS (\n",
    "                        SELECT \n",
    "                                best_bid_qty AS q_b_n,\n",
    "                                LAG(best_bid_qty, 1) OVER (ORDER BY transaction_time, update_id) AS q_b_n_minus_1,\n",
    "                                best_ask_qty AS q_s_n,\n",
    "                                LAG(best_ask_qty, 1) OVER (ORDER BY transaction_time, update_id) AS q_s_n_minus_1,\n",
    "                                best_bid_price AS P_b_n,\n",
    "                                LAG(best_bid_price, 1) OVER (ORDER BY transaction_time, update_id) AS P_b_n_minus_1,\n",
    "                                best_ask_price AS P_s_n,\n",
    "                                LAG(best_ask_price, 1) OVER (ORDER BY transaction_time, update_id) AS P_s_n_minus_1,\n",
    "                                mid_price,\n",
    "                                LAG (mid_price, 1) OVER (ORDER BY transaction_time, update_id) AS mid_price_lag,\n",
    "                                transaction_time,\n",
    "                                update_id,\n",
    "                                symbol\n",
    "                        FROM tick\n",
    "                        )\n",
    "                        SELECT \n",
    "                        (\n",
    "                                q_b_n * CASE WHEN P_b_n >= P_b_n_minus_1 THEN 1 ELSE 0 END\n",
    "                                - q_b_n_minus_1 * CASE WHEN P_b_n <= P_b_n_minus_1 THEN 1 ELSE 0 END\n",
    "                                - q_s_n * CASE WHEN P_s_n <= P_s_n_minus_1 THEN 1 ELSE 0 END\n",
    "                                + q_s_n_minus_1 * CASE WHEN P_s_n >= P_s_n_minus_1 THEN 1 ELSE 0 END\n",
    "                        ) AS e_n,\n",
    "                        mid_price - mid_price_lag AS mid_price_change,\n",
    "                        transaction_time,\n",
    "                        symbol\n",
    "                        FROM \n",
    "                        cte\n",
    "                        ORDER BY transaction_time, update_id\n",
    "                        \"\"\"\n",
    "        query = f\"\"\"\\\n",
    "                        CREATE TABLE rolling AS\n",
    "                        {calculation}\n",
    "                        \"\"\"\n",
    "        con.execute(query)\n",
    "        logging.info(\"Created rolling table\")\n",
    "        query = f\"\"\"\\\n",
    "                CREATE TABLE agg_10s AS\n",
    "                WITH min_time_tbl AS (\n",
    "                        SELECT date_trunc('year', MIN(transaction_time)) AS min_time\n",
    "                        FROM rolling\n",
    "                )\n",
    "                SELECT \n",
    "                (\n",
    "                        min_time + INTERVAL '10 seconds' * (FLOOR(DATE_PART('epoch', transaction_time - min_time) / 10) + 1)::INT\n",
    "                ) AS time_bucket_end,\n",
    "                SUM(e_n) AS order_flow_imbalance,\n",
    "                SUM(mid_price_change) AS mid_price_change,\n",
    "                symbol,\n",
    "                COUNT(*) AS num_ticks\n",
    "                FROM rolling, min_time_tbl\n",
    "                GROUP BY symbol, min_time + INTERVAL '10 seconds' * (FLOOR(DATE_PART('epoch', transaction_time - min_time) / 10) + 1)::INT\n",
    "                ORDER BY time_bucket_end\n",
    "                \"\"\"\n",
    "        con.execute(query)\n",
    "        logging.info(\"Created agg_10s table\")\n",
    "    logging.info(f\"Finished creating database for {symbol}\")\n",
    "\n",
    "\n",
    "eth_tick_size = 0.01\n",
    "sol_tick_size = 0.001\n",
    "create_db(\"ETHUSD_PERP\", \"./data/ticker\", eth_tick_size)\n",
    "create_db(\"SOLUSD_PERP\", \"./data/ticker\", sol_tick_size)"
   ]
  },
  {
   "cell_type": "markdown",
   "metadata": {},
   "source": [
    "Overall, we have data that looks like this:"
   ]
  },
  {
   "cell_type": "code",
   "execution_count": 13,
   "metadata": {},
   "outputs": [
    {
     "name": "stdout",
     "output_type": "stream",
     "text": [
      "┌──────────────┐\n",
      "│ count_star() │\n",
      "│    int64     │\n",
      "├──────────────┤\n",
      "│      1313280 │\n",
      "└──────────────┘\n",
      "\n",
      "┌─────────────────────┬──────────────────────┬──────────────────┬─────────────┬───────────┐\n",
      "│   time_bucket_end   │ order_flow_imbalance │ mid_price_change │   symbol    │ num_ticks │\n",
      "│      timestamp      │        double        │      double      │   varchar   │   int64   │\n",
      "├─────────────────────┼──────────────────────┼──────────────────┼─────────────┼───────────┤\n",
      "│ 2024-01-24 03:33:30 │              -3388.0 │            -14.0 │ BTCUSD_PERP │       228 │\n",
      "│ 2024-01-24 03:33:40 │             -24267.0 │           -144.0 │ BTCUSD_PERP │       617 │\n",
      "│ 2024-01-24 03:33:50 │               4203.0 │             53.0 │ BTCUSD_PERP │       371 │\n",
      "│ 2024-01-24 03:34:00 │              61317.0 │            143.0 │ BTCUSD_PERP │       765 │\n",
      "│ 2024-01-24 03:34:10 │               9844.0 │            100.0 │ BTCUSD_PERP │       344 │\n",
      "└─────────────────────┴──────────────────────┴──────────────────┴─────────────┴───────────┘\n",
      "\n",
      "┌──────────────┐\n",
      "│ count_star() │\n",
      "│    int64     │\n",
      "├──────────────┤\n",
      "│      1313280 │\n",
      "└──────────────┘\n",
      "\n",
      "┌─────────────────────┬──────────────────────┬──────────────────┬─────────────┬───────────┐\n",
      "│   time_bucket_end   │ order_flow_imbalance │ mid_price_change │   symbol    │ num_ticks │\n",
      "│      timestamp      │        double        │      double      │   varchar   │   int64   │\n",
      "├─────────────────────┼──────────────────────┼──────────────────┼─────────────┼───────────┤\n",
      "│ 2024-01-24 03:33:30 │              63829.0 │             31.0 │ ETHUSD_PERP │       333 │\n",
      "│ 2024-01-24 03:33:40 │            -194578.0 │           -116.0 │ ETHUSD_PERP │       633 │\n",
      "│ 2024-01-24 03:33:50 │             245886.0 │             25.0 │ ETHUSD_PERP │       456 │\n",
      "│ 2024-01-24 03:34:00 │             338321.0 │             93.0 │ ETHUSD_PERP │       494 │\n",
      "│ 2024-01-24 03:34:10 │             233834.0 │             56.0 │ ETHUSD_PERP │       495 │\n",
      "└─────────────────────┴──────────────────────┴──────────────────┴─────────────┴───────────┘\n",
      "\n",
      "┌──────────────┐\n",
      "│ count_star() │\n",
      "│    int64     │\n",
      "├──────────────┤\n",
      "│      1313280 │\n",
      "└──────────────┘\n",
      "\n",
      "┌─────────────────────┬──────────────────────┬──────────────────┬─────────────┬───────────┐\n",
      "│   time_bucket_end   │ order_flow_imbalance │ mid_price_change │   symbol    │ num_ticks │\n",
      "│      timestamp      │        double        │      double      │   varchar   │   int64   │\n",
      "├─────────────────────┼──────────────────────┼──────────────────┼─────────────┼───────────┤\n",
      "│ 2024-01-24 03:33:30 │               1083.0 │              3.0 │ SOLUSD_PERP │        79 │\n",
      "│ 2024-01-24 03:33:40 │              -6630.0 │            -63.0 │ SOLUSD_PERP │       140 │\n",
      "│ 2024-01-24 03:33:50 │               5584.0 │             41.5 │ SOLUSD_PERP │        90 │\n",
      "│ 2024-01-24 03:34:00 │               9863.0 │             70.5 │ SOLUSD_PERP │       137 │\n",
      "│ 2024-01-24 03:34:10 │               1103.0 │            -18.0 │ SOLUSD_PERP │       115 │\n",
      "└─────────────────────┴──────────────────────┴──────────────────┴─────────────┴───────────┘\n",
      "\n"
     ]
    }
   ],
   "source": [
    "data_dir = \"./data/ticker\"\n",
    "symbols = [\"BTCUSD_PERP\", \"ETHUSD_PERP\", \"SOLUSD_PERP\"]\n",
    "for symbol in symbols:\n",
    "    with duckdb.connect(f\"{data_dir}/{symbol}.db\") as con:\n",
    "        print(con.sql(\"SELECT COUNT(*) FROM agg_10s\"))\n",
    "        print(con.sql(\"SELECT * FROM agg_10s LIMIT 5 OFFSET 200000\"))"
   ]
  },
  {
   "cell_type": "markdown",
   "metadata": {},
   "source": [
    "The activity in SOL seems lower than the other two."
   ]
  },
  {
   "cell_type": "markdown",
   "metadata": {},
   "source": [
    "# Statistical modeling\n",
    "Recall, the model we are interested in is\n",
    "$$\n",
    "\\Delta P_{k,i} = \\beta_i \\text{OFI}_{k,i} + \\epsilon_{k,i}\n",
    "$$\n",
    "Through OLS, we will estimate \n",
    "$$\n",
    "\\Delta P_{k,i} = \\hat{\\alpha}_i + \\hat{\\beta}_i \\text{OFI}_{k,i} + \\hat{\\epsilon}_{k,i}\n",
    "$$\n",
    "for each of the three contracts. The aggregated data is small enough to fit in memory, so I will switch to Pandas and statsmodels for this part. When fitting the models, the paper uses HAC standard errors to account for autocorrelation in the residuals. I will do the same."
   ]
  },
  {
   "cell_type": "code",
   "execution_count": 14,
   "metadata": {},
   "outputs": [],
   "source": [
    "# | code-fold: true\n",
    "import statsmodels.formula.api as smf\n",
    "import numpy as np\n",
    "import pandas as pd\n",
    "import seaborn as sns\n",
    "from diagnostics import LinearRegDiagnostic"
   ]
  },
  {
   "cell_type": "markdown",
   "metadata": {},
   "source": [
    "Let's first make a plot for a random interval for BTCUSD_PERP to see if there is any visual correlation between OFI and midprice change."
   ]
  },
  {
   "cell_type": "code",
   "execution_count": 15,
   "metadata": {},
   "outputs": [
    {
     "data": {
      "image/png": "[encoded data removed]",
      "text/plain": [
       "<Figure size 640x480 with 1 Axes>"
      ]
     },
     "metadata": {},
     "output_type": "display_data"
    }
   ],
   "source": [
    "# | code-fold: true\n",
    "np.random.seed(42)\n",
    "instance = np.random.randint(0, 1313280 // 180)\n",
    "with duckdb.connect(f\"{data_dir}/{symbol}.db\") as con:\n",
    "    df = con.sql(\"SELECT * FROM agg_10s\").to_df()\n",
    "    df = df.iloc[instance * 180 : (instance + 1) * 180]\n",
    "    model = smf.ols(\"mid_price_change ~ order_flow_imbalance\", data=df)\n",
    "    res = model.fit(cov_type=\"HAC\", cov_kwds={\"maxlags\": int(180**0.25)})\n",
    "    sns.scatterplot(data=df, x=\"order_flow_imbalance\", y=\"mid_price_change\")\n",
    "    sns.lineplot(x=df.order_flow_imbalance, y=res.fittedvalues, color=\"red\")"
   ]
  },
  {
   "cell_type": "markdown",
   "metadata": {},
   "source": [
    "It does seem like there is a linear relationship between the two, for this interval at least. I'll now fit the model for all the 30 minute intervals for each of the three contracts."
   ]
  },
  {
   "cell_type": "code",
   "execution_count": 16,
   "metadata": {},
   "outputs": [],
   "source": [
    "class Results:\n",
    "    def __init__(self):\n",
    "        self.alphas = []\n",
    "        self.betas = []\n",
    "        self.alphas_p = []\n",
    "        self.betas_p = []\n",
    "        self.r2 = []\n",
    "\n",
    "    def summarize(self):\n",
    "        signif_alphas = np.sum(np.array(self.alphas_p) < 0.05) / len(self.alphas_p)\n",
    "        signif_betas = np.sum(np.array(self.betas_p) < 0.05) / len(self.betas_p)\n",
    "        avg_r2 = np.mean(self.r2)\n",
    "        return pd.DataFrame(\n",
    "            {\n",
    "                \"signif_alphas\": [signif_alphas],\n",
    "                \"signif_betas\": [signif_betas],\n",
    "                \"avg_r2\": [avg_r2],\n",
    "            }\n",
    "        )\n",
    "\n",
    "\n",
    "def global_summary(*results):\n",
    "    dfs = [result.summarize() for result in results]\n",
    "    concacted = pd.concat(dfs)\n",
    "    return concacted.mean()\n",
    "\n",
    "\n",
    "def estimate_regressions(symbol, data_dir, every=180):\n",
    "    con = duckdb.connect(f\"{data_dir}/{symbol}.db\")\n",
    "    query = f\"\"\"\\\n",
    "            SELECT * FROM agg_10s\n",
    "            \"\"\"\n",
    "    df = con.execute(query).df()\n",
    "    con.close()\n",
    "    results = Results()\n",
    "    for i in range(0, len(df), every):\n",
    "        model = smf.ols(\n",
    "            \"mid_price_change ~ order_flow_imbalance\", data=df.iloc[i : i + every]\n",
    "        )\n",
    "        res = model.fit(cov_type=\"HAC\", cov_kwds={\"maxlags\": int(every**0.25)})\n",
    "        results.alphas.append(res.params[\"Intercept\"])\n",
    "        results.betas.append(res.params[\"order_flow_imbalance\"])\n",
    "        results.alphas_p.append(res.pvalues[\"Intercept\"])\n",
    "        results.betas_p.append(res.pvalues[\"order_flow_imbalance\"])\n",
    "        results.r2.append(res.rsquared)\n",
    "    return results\n",
    "\n",
    "\n",
    "btc_results = estimate_regressions(\"BTCUSD_PERP\", \"./data/ticker\")\n",
    "eth_results = estimate_regressions(\"ETHUSD_PERP\", \"./data/ticker\")\n",
    "sol_results = estimate_regressions(\"SOLUSD_PERP\", \"./data/ticker\")"
   ]
  },
  {
   "cell_type": "code",
   "execution_count": 17,
   "metadata": {},
   "outputs": [
    {
     "data": {
      "text/html": [
       "<div>\n",
       "<style scoped>\n",
       "    .dataframe tbody tr th:only-of-type {\n",
       "        vertical-align: middle;\n",
       "    }\n",
       "\n",
       "    .dataframe tbody tr th {\n",
       "        vertical-align: top;\n",
       "    }\n",
       "\n",
       "    .dataframe thead th {\n",
       "        text-align: right;\n",
       "    }\n",
       "</style>\n",
       "<table border=\"1\" class=\"dataframe\">\n",
       "  <thead>\n",
       "    <tr style=\"text-align: right;\">\n",
       "      <th></th>\n",
       "      <th>signif_alphas</th>\n",
       "      <th>signif_betas</th>\n",
       "      <th>avg_r2</th>\n",
       "    </tr>\n",
       "  </thead>\n",
       "  <tbody>\n",
       "    <tr>\n",
       "      <th>0</th>\n",
       "      <td>0.204221</td>\n",
       "      <td>1.0</td>\n",
       "      <td>0.697402</td>\n",
       "    </tr>\n",
       "  </tbody>\n",
       "</table>\n",
       "</div>"
      ],
      "text/plain": [
       "   signif_alphas  signif_betas    avg_r2\n",
       "0       0.204221           1.0  0.697402"
      ]
     },
     "execution_count": 17,
     "metadata": {},
     "output_type": "execute_result"
    }
   ],
   "source": [
    "btc_results.summarize()"
   ]
  },
  {
   "cell_type": "code",
   "execution_count": 18,
   "metadata": {},
   "outputs": [
    {
     "data": {
      "text/html": [
       "<div>\n",
       "<style scoped>\n",
       "    .dataframe tbody tr th:only-of-type {\n",
       "        vertical-align: middle;\n",
       "    }\n",
       "\n",
       "    .dataframe tbody tr th {\n",
       "        vertical-align: top;\n",
       "    }\n",
       "\n",
       "    .dataframe thead th {\n",
       "        text-align: right;\n",
       "    }\n",
       "</style>\n",
       "<table border=\"1\" class=\"dataframe\">\n",
       "  <thead>\n",
       "    <tr style=\"text-align: right;\">\n",
       "      <th></th>\n",
       "      <th>signif_alphas</th>\n",
       "      <th>signif_betas</th>\n",
       "      <th>avg_r2</th>\n",
       "    </tr>\n",
       "  </thead>\n",
       "  <tbody>\n",
       "    <tr>\n",
       "      <th>0</th>\n",
       "      <td>0.310444</td>\n",
       "      <td>0.999863</td>\n",
       "      <td>0.706825</td>\n",
       "    </tr>\n",
       "  </tbody>\n",
       "</table>\n",
       "</div>"
      ],
      "text/plain": [
       "   signif_alphas  signif_betas    avg_r2\n",
       "0       0.310444      0.999863  0.706825"
      ]
     },
     "execution_count": 18,
     "metadata": {},
     "output_type": "execute_result"
    }
   ],
   "source": [
    "eth_results.summarize()"
   ]
  },
  {
   "cell_type": "code",
   "execution_count": 19,
   "metadata": {},
   "outputs": [
    {
     "data": {
      "text/html": [
       "<div>\n",
       "<style scoped>\n",
       "    .dataframe tbody tr th:only-of-type {\n",
       "        vertical-align: middle;\n",
       "    }\n",
       "\n",
       "    .dataframe tbody tr th {\n",
       "        vertical-align: top;\n",
       "    }\n",
       "\n",
       "    .dataframe thead th {\n",
       "        text-align: right;\n",
       "    }\n",
       "</style>\n",
       "<table border=\"1\" class=\"dataframe\">\n",
       "  <thead>\n",
       "    <tr style=\"text-align: right;\">\n",
       "      <th></th>\n",
       "      <th>signif_alphas</th>\n",
       "      <th>signif_betas</th>\n",
       "      <th>avg_r2</th>\n",
       "    </tr>\n",
       "  </thead>\n",
       "  <tbody>\n",
       "    <tr>\n",
       "      <th>0</th>\n",
       "      <td>0.263569</td>\n",
       "      <td>0.992325</td>\n",
       "      <td>0.542729</td>\n",
       "    </tr>\n",
       "  </tbody>\n",
       "</table>\n",
       "</div>"
      ],
      "text/plain": [
       "   signif_alphas  signif_betas    avg_r2\n",
       "0       0.263569      0.992325  0.542729"
      ]
     },
     "execution_count": 19,
     "metadata": {},
     "output_type": "execute_result"
    }
   ],
   "source": [
    "sol_results.summarize()"
   ]
  },
  {
   "cell_type": "code",
   "execution_count": 20,
   "metadata": {},
   "outputs": [
    {
     "data": {
      "text/plain": [
       "signif_alphas    0.259412\n",
       "signif_betas     0.997396\n",
       "avg_r2           0.648985\n",
       "dtype: float64"
      ]
     },
     "execution_count": 20,
     "metadata": {},
     "output_type": "execute_result"
    }
   ],
   "source": [
    "global_summary(btc_results, eth_results, sol_results)"
   ]
  },
  {
   "cell_type": "code",
   "execution_count": 21,
   "metadata": {},
   "outputs": [
    {
     "data": {
      "text/plain": [
       "np.float64(0.9923245614035088)"
      ]
     },
     "execution_count": 21,
     "metadata": {},
     "output_type": "execute_result"
    }
   ],
   "source": [
    "from statsmodels.stats.multitest import multipletests\n",
    "\n",
    "reject, _, _, _ = multipletests(\n",
    "    np.array(sol_results.betas_p), alpha=0.05, method=\"fdr_bh\"\n",
    ")\n",
    "np.average(reject)"
   ]
  },
  {
   "cell_type": "markdown",
   "metadata": {},
   "source": [
    "Overall, we have similar results as the paper. $\\hat{\\beta}$ is significant (when p-value is < .05) in >99% of the cases. The $R^2$ values average to around 65%. So a linear model of instantaneous price-impact does quite well. Let's try using 1 hour sized intervals instead of 30 minutes.\n"
   ]
  },
  {
   "cell_type": "code",
   "execution_count": 22,
   "metadata": {},
   "outputs": [],
   "source": [
    "btc_results_hr = estimate_regressions(\"BTCUSD_PERP\", \"./data/ticker\", every=360)\n",
    "eth_results_hr = estimate_regressions(\"ETHUSD_PERP\", \"./data/ticker\", every=360)\n",
    "sol_results_hr = estimate_regressions(\"SOLUSD_PERP\", \"./data/ticker\", every=360)"
   ]
  },
  {
   "cell_type": "code",
   "execution_count": 23,
   "metadata": {},
   "outputs": [
    {
     "data": {
      "text/html": [
       "<div>\n",
       "<style scoped>\n",
       "    .dataframe tbody tr th:only-of-type {\n",
       "        vertical-align: middle;\n",
       "    }\n",
       "\n",
       "    .dataframe tbody tr th {\n",
       "        vertical-align: top;\n",
       "    }\n",
       "\n",
       "    .dataframe thead th {\n",
       "        text-align: right;\n",
       "    }\n",
       "</style>\n",
       "<table border=\"1\" class=\"dataframe\">\n",
       "  <thead>\n",
       "    <tr style=\"text-align: right;\">\n",
       "      <th></th>\n",
       "      <th>signif_alphas</th>\n",
       "      <th>signif_betas</th>\n",
       "      <th>avg_r2</th>\n",
       "    </tr>\n",
       "  </thead>\n",
       "  <tbody>\n",
       "    <tr>\n",
       "      <th>0</th>\n",
       "      <td>0.238761</td>\n",
       "      <td>1.0</td>\n",
       "      <td>0.680708</td>\n",
       "    </tr>\n",
       "  </tbody>\n",
       "</table>\n",
       "</div>"
      ],
      "text/plain": [
       "   signif_alphas  signif_betas    avg_r2\n",
       "0       0.238761           1.0  0.680708"
      ]
     },
     "execution_count": 23,
     "metadata": {},
     "output_type": "execute_result"
    }
   ],
   "source": [
    "btc_results_hr.summarize()"
   ]
  },
  {
   "cell_type": "code",
   "execution_count": 24,
   "metadata": {},
   "outputs": [
    {
     "data": {
      "text/html": [
       "<div>\n",
       "<style scoped>\n",
       "    .dataframe tbody tr th:only-of-type {\n",
       "        vertical-align: middle;\n",
       "    }\n",
       "\n",
       "    .dataframe tbody tr th {\n",
       "        vertical-align: top;\n",
       "    }\n",
       "\n",
       "    .dataframe thead th {\n",
       "        text-align: right;\n",
       "    }\n",
       "</style>\n",
       "<table border=\"1\" class=\"dataframe\">\n",
       "  <thead>\n",
       "    <tr style=\"text-align: right;\">\n",
       "      <th></th>\n",
       "      <th>signif_alphas</th>\n",
       "      <th>signif_betas</th>\n",
       "      <th>avg_r2</th>\n",
       "    </tr>\n",
       "  </thead>\n",
       "  <tbody>\n",
       "    <tr>\n",
       "      <th>0</th>\n",
       "      <td>0.33909</td>\n",
       "      <td>1.0</td>\n",
       "      <td>0.690052</td>\n",
       "    </tr>\n",
       "  </tbody>\n",
       "</table>\n",
       "</div>"
      ],
      "text/plain": [
       "   signif_alphas  signif_betas    avg_r2\n",
       "0        0.33909           1.0  0.690052"
      ]
     },
     "execution_count": 24,
     "metadata": {},
     "output_type": "execute_result"
    }
   ],
   "source": [
    "eth_results_hr.summarize()"
   ]
  },
  {
   "cell_type": "code",
   "execution_count": 25,
   "metadata": {},
   "outputs": [
    {
     "data": {
      "text/html": [
       "<div>\n",
       "<style scoped>\n",
       "    .dataframe tbody tr th:only-of-type {\n",
       "        vertical-align: middle;\n",
       "    }\n",
       "\n",
       "    .dataframe tbody tr th {\n",
       "        vertical-align: top;\n",
       "    }\n",
       "\n",
       "    .dataframe thead th {\n",
       "        text-align: right;\n",
       "    }\n",
       "</style>\n",
       "<table border=\"1\" class=\"dataframe\">\n",
       "  <thead>\n",
       "    <tr style=\"text-align: right;\">\n",
       "      <th></th>\n",
       "      <th>signif_alphas</th>\n",
       "      <th>signif_betas</th>\n",
       "      <th>avg_r2</th>\n",
       "    </tr>\n",
       "  </thead>\n",
       "  <tbody>\n",
       "    <tr>\n",
       "      <th>0</th>\n",
       "      <td>0.26261</td>\n",
       "      <td>0.996436</td>\n",
       "      <td>0.520113</td>\n",
       "    </tr>\n",
       "  </tbody>\n",
       "</table>\n",
       "</div>"
      ],
      "text/plain": [
       "   signif_alphas  signif_betas    avg_r2\n",
       "0        0.26261      0.996436  0.520113"
      ]
     },
     "execution_count": 25,
     "metadata": {},
     "output_type": "execute_result"
    }
   ],
   "source": [
    "sol_results_hr.summarize()"
   ]
  },
  {
   "cell_type": "code",
   "execution_count": 26,
   "metadata": {},
   "outputs": [
    {
     "data": {
      "text/plain": [
       "signif_alphas    0.280154\n",
       "signif_betas     0.998812\n",
       "avg_r2           0.630291\n",
       "dtype: float64"
      ]
     },
     "execution_count": 26,
     "metadata": {},
     "output_type": "execute_result"
    }
   ],
   "source": [
    "global_summary(btc_results_hr, eth_results_hr, sol_results_hr)"
   ]
  },
  {
   "cell_type": "markdown",
   "metadata": {},
   "source": [
    "We have similar findings for the hourly intervals too, indicating that the model could be robust over different time scales. I will not try different aggregations on the smaller time scale (e.g. 5s or 1s instead of 10s) as it just takes too long to run on my machine.\n",
    "\n",
    "Is this model useful in a practical setting to make trades? Probably not. For one, it estimates the price impact over a time interval using data from that very same interval. The original paper proposes a way to use this method of analysis as a monitoring mechanism for adverse selection. I will not go into that here, but it could be of interest to explore in the future. Now, if we try to predict the change in the next interval, performance drops significantly. "
   ]
  },
  {
   "cell_type": "code",
   "execution_count": 27,
   "metadata": {},
   "outputs": [
    {
     "name": "stdout",
     "output_type": "stream",
     "text": [
      "   signif_alphas  signif_betas    avg_r2\n",
      "0       0.032895      0.412418  0.026467\n",
      "   signif_alphas  signif_betas    avg_r2\n",
      "0       0.035773      0.292626  0.017402\n",
      "   signif_alphas  signif_betas    avg_r2\n",
      "0       0.038377      0.124863  0.008959\n"
     ]
    }
   ],
   "source": [
    "def estimate_regressions_fwd(symbol, data_dir, every=180):\n",
    "    con = duckdb.connect(f\"{data_dir}/{symbol}.db\")\n",
    "    query = f\"\"\"\\\n",
    "            SELECT * FROM agg_10s\n",
    "            \"\"\"\n",
    "    df = con.execute(query).df()\n",
    "    con.close()\n",
    "    df[\"mid_price_change_next\"] = df[\"mid_price_change\"].shift(-1)\n",
    "    results = Results()\n",
    "    for i in range(0, len(df), every):\n",
    "        model = smf.ols(\n",
    "            \"mid_price_change_next ~ order_flow_imbalance\",\n",
    "            data=df.iloc[i : i + every],\n",
    "            missing=\"drop\",\n",
    "        )\n",
    "        res = model.fit(cov_type=\"HAC\", cov_kwds={\"maxlags\": int(every**0.25)})\n",
    "        results.alphas.append(res.params[\"Intercept\"])\n",
    "        results.betas.append(res.params[\"order_flow_imbalance\"])\n",
    "        results.alphas_p.append(res.pvalues[\"Intercept\"])\n",
    "        results.betas_p.append(res.pvalues[\"order_flow_imbalance\"])\n",
    "        results.r2.append(res.rsquared)\n",
    "    return results\n",
    "\n",
    "\n",
    "btc_results_fwd = estimate_regressions_fwd(\"BTCUSD_PERP\", \"./data/ticker\")\n",
    "eth_results_fwd = estimate_regressions_fwd(\"ETHUSD_PERP\", \"./data/ticker\")\n",
    "sol_results_fwd = estimate_regressions_fwd(\"SOLUSD_PERP\", \"./data/ticker\")\n",
    "print(btc_results_fwd.summarize())\n",
    "print(eth_results_fwd.summarize())\n",
    "print(sol_results_fwd.summarize())"
   ]
  },
  {
   "cell_type": "markdown",
   "metadata": {},
   "source": [
    "Another concern is we are trying to estimate changes in price levels instead of returns, which means it must be estimated on a per asset basis. I'm curious if there's any generalization across the contracts. Going forward, I will try to implement a more practical model. \n",
    "\n",
    "# Can we use OFI as a signal?\n",
    "To start, I want to have returns over the 10s intervals. I also want to do standardizations on the OFI. I will define returns as the change in the final midprice of one interval to the next. But everything done can be repeated for the bid/ask price as well. "
   ]
  },
  {
   "cell_type": "code",
   "execution_count": 28,
   "metadata": {},
   "outputs": [],
   "source": [
    "symbols = [\"BTCUSD_PERP\", \"ETHUSD_PERP\", \"SOLUSD_PERP\"]\n",
    "data_dir = \"./data/ticker\"\n",
    "for symbol in symbols:\n",
    "    with duckdb.connect(f\"{data_dir}/{symbol}.db\") as con:\n",
    "        con.execute(\n",
    "            f\"\"\"\n",
    "                    CREATE TABLE close_10s AS\n",
    "                    WITH base_data AS (\n",
    "                        SELECT \n",
    "                            transaction_time,\n",
    "                            mid_price,\n",
    "                            symbol,\n",
    "                            date_trunc('year', MIN(transaction_time) OVER ()) AS min_time\n",
    "                        FROM tick\n",
    "                    )\n",
    "                    SELECT\n",
    "                        MAX_BY(mid_price, transaction_time) AS close_price,\n",
    "                        symbol,\n",
    "                        (min_time + INTERVAL '10 seconds' * (FLOOR(DATE_PART('epoch', transaction_time - min_time) / 10) + 1)::INT) AS time_bucket_end\n",
    "                    FROM base_data\n",
    "                    GROUP BY symbol, min_time + INTERVAL '10 seconds' * (FLOOR(DATE_PART('epoch', transaction_time - min_time) / 10) + 1)::INT\n",
    "                    ORDER BY time_bucket_end\n",
    "                    \"\"\"\n",
    "        )"
   ]
  },
  {
   "cell_type": "code",
   "execution_count": null,
   "metadata": {},
   "outputs": [],
   "source": [
    "# | code-fold: true\n",
    "symbols = [\"BTCUSD_PERP\", \"ETHUSD_PERP\", \"SOLUSD_PERP\"]\n",
    "data_dir = \"./data/ticker\"\n",
    "for symbol in symbols:\n",
    "    with duckdb.connect(f\"{data_dir}/{symbol}.db\") as con:\n",
    "        con.execute(\n",
    "            f\"\"\"\n",
    "                    CREATE TABLE open_10s AS\n",
    "                    WITH base_data AS (\n",
    "                        SELECT \n",
    "                            transaction_time,\n",
    "                            mid_price,\n",
    "                            symbol,\n",
    "                            date_trunc('year', MIN(transaction_time) OVER ()) AS min_time\n",
    "                        FROM tick\n",
    "                    )\n",
    "                    SELECT\n",
    "                        MIN_BY(mid_price, transaction_time) AS open_price,\n",
    "                        symbol,\n",
    "                        (min_time + INTERVAL '10 seconds' * (FLOOR(DATE_PART('epoch', transaction_time - min_time) / 10) + 1)::INT) AS time_bucket_end\n",
    "                    FROM base_data\n",
    "                    GROUP BY symbol, min_time + INTERVAL '10 seconds' * (FLOOR(DATE_PART('epoch', transaction_time - min_time) / 10) + 1)::INT\n",
    "                    ORDER BY time_bucket_end\n",
    "                    \"\"\"\n",
    "        )"
   ]
  },
  {
   "cell_type": "code",
   "execution_count": 31,
   "metadata": {},
   "outputs": [],
   "source": [
    "def collect_data():\n",
    "    ofi_dfs = []\n",
    "    close_dfs = []\n",
    "    for symbol in symbols:\n",
    "        with duckdb.connect(f\"{data_dir}/{symbol}.db\") as con:\n",
    "            ofi_df = con.sql(\"SELECT * FROM agg_10s\").to_df()\n",
    "            close_df = con.sql(\"SELECT * FROM close_10s\").to_df()\n",
    "            ofi_dfs.append(ofi_df)\n",
    "            close_dfs.append(close_df)\n",
    "    return ofi_dfs, close_dfs\n",
    "\n",
    "\n",
    "ofi_dfs, close_dfs = collect_data()"
   ]
  },
  {
   "cell_type": "code",
   "execution_count": 108,
   "metadata": {},
   "outputs": [],
   "source": [
    "for df1, df2 in zip(ofi_dfs, close_dfs):\n",
    "    df1[\"close_price\"] = df2[\"close_price\"]\n",
    "    df1[\"returns\"] = df2[\"close_price\"].pct_change()\n",
    "    del df2\n",
    "del close_dfs"
   ]
  },
  {
   "cell_type": "markdown",
   "metadata": {},
   "source": [
    "For standardization of OFI, I will use a rolling window of 1 minutes to compute z-scores. This is to account for the different levels of activity in the three contracts. I will then use the z-scores in the regression model."
   ]
  },
  {
   "cell_type": "code",
   "execution_count": 74,
   "metadata": {},
   "outputs": [],
   "source": [
    "for df in ofi_dfs:\n",
    "    df[\"returns_next\"] = df[\"returns\"].shift(-1)\n",
    "    df[\"ofi_rolling_mean\"] = df[\"order_flow_imbalance\"].rolling(6).mean()\n",
    "    df[\"ofi_rolling_std\"] = df[\"order_flow_imbalance\"].rolling(6).std()\n",
    "    df[\"ofi_z\"] = (df[\"order_flow_imbalance\"] - df[\"ofi_rolling_mean\"]) / df[\n",
    "        \"ofi_rolling_std\"\n",
    "    ]"
   ]
  },
  {
   "cell_type": "code",
   "execution_count": 85,
   "metadata": {},
   "outputs": [
    {
     "data": {
      "image/png": "[encoded data removed]",
      "text/plain": [
       "<Figure size 640x480 with 1 Axes>"
      ]
     },
     "metadata": {},
     "output_type": "display_data"
    }
   ],
   "source": [
    "for df in ofi_dfs:\n",
    "    sns.lineplot(data=df[1000:2000], x=\"time_bucket_end\", y=\"ofi_z\", alpha=0.7)"
   ]
  },
  {
   "cell_type": "markdown",
   "metadata": {},
   "source": [
    "The standardization seems to put the OFI in the same range for all three contracts. A quick visualization for a thirty minute period doesn't show any obvious relationship between OFI and next 10s returns."
   ]
  },
  {
   "cell_type": "code",
   "execution_count": 90,
   "metadata": {},
   "outputs": [
    {
     "data": {
      "image/png": "[encoded data removed]",
      "text/plain": [
       "<Figure size 640x480 with 1 Axes>"
      ]
     },
     "metadata": {},
     "output_type": "display_data"
    }
   ],
   "source": [
    "for df in ofi_dfs:\n",
    "    sns.scatterplot(data=df.iloc[4000:4180], x=\"ofi_z\", y=\"returns_next\")"
   ]
  },
  {
   "cell_type": "markdown",
   "metadata": {},
   "source": [
    "But I will repeat the procedure from above anyways."
   ]
  },
  {
   "cell_type": "code",
   "execution_count": 94,
   "metadata": {},
   "outputs": [],
   "source": [
    "class Results:\n",
    "    def __init__(self):\n",
    "        self.alphas = []\n",
    "        self.betas = []\n",
    "        self.alphas_p = []\n",
    "        self.betas_p = []\n",
    "        self.betas_t = []\n",
    "        self.r2 = []\n",
    "\n",
    "    def summarize(self):\n",
    "        signif_alphas = np.sum(np.array(self.alphas_p) < 0.05) / len(self.alphas_p)\n",
    "        signif_betas = np.sum(np.array(self.betas_p) < 0.05) / len(self.betas_p)\n",
    "        avg_r2 = np.mean(self.r2)\n",
    "        return pd.DataFrame(\n",
    "            {\n",
    "                \"signif_alphas\": [signif_alphas],\n",
    "                \"signif_betas\": [signif_betas],\n",
    "                \"avg_t\": [np.mean(self.betas_t)],\n",
    "                \"avg_r2\": [avg_r2],\n",
    "            }\n",
    "        )\n",
    "\n",
    "\n",
    "def global_summary(*results):\n",
    "    dfs = [result.summarize() for result in results]\n",
    "    concacted = pd.concat(dfs)\n",
    "    return concacted.mean()\n",
    "\n",
    "\n",
    "def estimate_regressions(df, every=180):\n",
    "    results = Results()\n",
    "    df = df.dropna()\n",
    "    for i in range(0, len(df), every):\n",
    "        model = smf.ols(\"returns_next ~ ofi_z\", data=df.iloc[i : i + every])\n",
    "        res = model.fit(cov_type=\"HAC\", cov_kwds={\"maxlags\": int(every**0.25)})\n",
    "        results.alphas.append(res.params[\"Intercept\"])\n",
    "        results.betas.append(res.params[\"ofi_z\"])\n",
    "        results.alphas_p.append(res.pvalues[\"Intercept\"])\n",
    "        results.betas_p.append(res.pvalues[\"ofi_z\"])\n",
    "        results.betas_t.append(res.tvalues[\"ofi_z\"])\n",
    "        results.r2.append(res.rsquared)\n",
    "    return results\n",
    "\n",
    "\n",
    "btc_results = estimate_regressions(ofi_dfs[0])\n",
    "eth_results = estimate_regressions(ofi_dfs[1])\n",
    "sol_results = estimate_regressions(ofi_dfs[2])"
   ]
  },
  {
   "cell_type": "code",
   "execution_count": 95,
   "metadata": {},
   "outputs": [
    {
     "name": "stdout",
     "output_type": "stream",
     "text": [
      "   signif_alphas  signif_betas    avg_t    avg_r2\n",
      "0       0.040159       0.39693  1.64369  0.023374\n",
      "   signif_alphas  signif_betas     avg_t    avg_r2\n",
      "0       0.037144      0.294819  1.273421  0.016652\n",
      "   signif_alphas  signif_betas     avg_t    avg_r2\n",
      "0        0.03687      0.111431  0.472614  0.008378\n"
     ]
    }
   ],
   "source": [
    "print(btc_results.summarize())\n",
    "print(eth_results.summarize())\n",
    "print(sol_results.summarize())"
   ]
  },
  {
   "cell_type": "markdown",
   "metadata": {},
   "source": [
    "It's about what we expect. Let's also run a regression over all the data with all the contracts pooled together."
   ]
  },
  {
   "cell_type": "code",
   "execution_count": 101,
   "metadata": {},
   "outputs": [
    {
     "data": {
      "text/html": [
       "<table class=\"simpletable\">\n",
       "<caption>OLS Regression Results</caption>\n",
       "<tr>\n",
       "  <th>Dep. Variable:</th>      <td>returns_next</td>   <th>  R-squared:         </th>  <td>   0.002</td> \n",
       "</tr>\n",
       "<tr>\n",
       "  <th>Model:</th>                   <td>OLS</td>       <th>  Adj. R-squared:    </th>  <td>   0.002</td> \n",
       "</tr>\n",
       "<tr>\n",
       "  <th>Method:</th>             <td>Least Squares</td>  <th>  F-statistic:       </th>  <td>   6631.</td> \n",
       "</tr>\n",
       "<tr>\n",
       "  <th>Date:</th>             <td>Sat, 29 Jun 2024</td> <th>  Prob (F-statistic):</th>   <td>  0.00</td>  \n",
       "</tr>\n",
       "<tr>\n",
       "  <th>Time:</th>                 <td>23:31:47</td>     <th>  Log-Likelihood:    </th> <td>2.4757e+07</td>\n",
       "</tr>\n",
       "<tr>\n",
       "  <th>No. Observations:</th>      <td>3939822</td>     <th>  AIC:               </th> <td>-4.951e+07</td>\n",
       "</tr>\n",
       "<tr>\n",
       "  <th>Df Residuals:</th>          <td>3939820</td>     <th>  BIC:               </th> <td>-4.951e+07</td>\n",
       "</tr>\n",
       "<tr>\n",
       "  <th>Df Model:</th>              <td>     1</td>      <th>                     </th>      <td> </td>    \n",
       "</tr>\n",
       "<tr>\n",
       "  <th>Covariance Type:</th>         <td>HAC</td>       <th>                     </th>      <td> </td>    \n",
       "</tr>\n",
       "</table>\n",
       "<table class=\"simpletable\">\n",
       "<tr>\n",
       "      <td></td>         <th>coef</th>     <th>std err</th>      <th>z</th>      <th>P>|z|</th>  <th>[0.025</th>    <th>0.975]</th>  \n",
       "</tr>\n",
       "<tr>\n",
       "  <th>Intercept</th> <td> 4.952e-07</td> <td> 2.26e-07</td> <td>    2.187</td> <td> 0.029</td> <td> 5.14e-08</td> <td> 9.39e-07</td>\n",
       "</tr>\n",
       "<tr>\n",
       "  <th>ofi_z</th>     <td> 2.202e-05</td> <td>  2.7e-07</td> <td>   81.431</td> <td> 0.000</td> <td> 2.15e-05</td> <td> 2.25e-05</td>\n",
       "</tr>\n",
       "</table>\n",
       "<table class=\"simpletable\">\n",
       "<tr>\n",
       "  <th>Omnibus:</th>       <td>2017399.515</td> <th>  Durbin-Watson:     </th>    <td>   1.985</td>    \n",
       "</tr>\n",
       "<tr>\n",
       "  <th>Prob(Omnibus):</th>   <td> 0.000</td>    <th>  Jarque-Bera (JB):  </th> <td>13986223540.388</td>\n",
       "</tr>\n",
       "<tr>\n",
       "  <th>Skew:</th>            <td>-0.576</td>    <th>  Prob(JB):          </th>    <td>    0.00</td>    \n",
       "</tr>\n",
       "<tr>\n",
       "  <th>Kurtosis:</th>        <td>294.887</td>   <th>  Cond. No.          </th>    <td>    1.08</td>    \n",
       "</tr>\n",
       "</table><br/><br/>Notes:<br/>[1] Standard Errors are heteroscedasticity and autocorrelation robust (HAC) using 44 lags and without small sample correction"
      ],
      "text/latex": [
       "\\begin{center}\n",
       "\\begin{tabular}{lclc}\n",
       "\\toprule\n",
       "\\textbf{Dep. Variable:}    &  returns\\_next   & \\textbf{  R-squared:         } &        0.002     \\\\\n",
       "\\textbf{Model:}            &       OLS        & \\textbf{  Adj. R-squared:    } &        0.002     \\\\\n",
       "\\textbf{Method:}           &  Least Squares   & \\textbf{  F-statistic:       } &        6631.     \\\\\n",
       "\\textbf{Date:}             & Sat, 29 Jun 2024 & \\textbf{  Prob (F-statistic):} &        0.00      \\\\\n",
       "\\textbf{Time:}             &     23:31:47     & \\textbf{  Log-Likelihood:    } &    2.4757e+07    \\\\\n",
       "\\textbf{No. Observations:} &     3939822      & \\textbf{  AIC:               } &    -4.951e+07    \\\\\n",
       "\\textbf{Df Residuals:}     &     3939820      & \\textbf{  BIC:               } &    -4.951e+07    \\\\\n",
       "\\textbf{Df Model:}         &           1      & \\textbf{                     } &                  \\\\\n",
       "\\textbf{Covariance Type:}  &       HAC        & \\textbf{                     } &                  \\\\\n",
       "\\bottomrule\n",
       "\\end{tabular}\n",
       "\\begin{tabular}{lcccccc}\n",
       "                   & \\textbf{coef} & \\textbf{std err} & \\textbf{z} & \\textbf{P$> |$z$|$} & \\textbf{[0.025} & \\textbf{0.975]}  \\\\\n",
       "\\midrule\n",
       "\\textbf{Intercept} &    4.952e-07  &     2.26e-07     &     2.187  &         0.029        &     5.14e-08    &     9.39e-07     \\\\\n",
       "\\textbf{ofi\\_z}    &    2.202e-05  &      2.7e-07     &    81.431  &         0.000        &     2.15e-05    &     2.25e-05     \\\\\n",
       "\\bottomrule\n",
       "\\end{tabular}\n",
       "\\begin{tabular}{lclc}\n",
       "\\textbf{Omnibus:}       & 2017399.515 & \\textbf{  Durbin-Watson:     } &        1.985     \\\\\n",
       "\\textbf{Prob(Omnibus):} &     0.000   & \\textbf{  Jarque-Bera (JB):  } & 13986223540.388  \\\\\n",
       "\\textbf{Skew:}          &    -0.576   & \\textbf{  Prob(JB):          } &         0.00     \\\\\n",
       "\\textbf{Kurtosis:}      &   294.887   & \\textbf{  Cond. No.          } &         1.08     \\\\\n",
       "\\bottomrule\n",
       "\\end{tabular}\n",
       "%\\caption{OLS Regression Results}\n",
       "\\end{center}\n",
       "\n",
       "Notes: \\newline\n",
       " [1] Standard Errors are heteroscedasticity and autocorrelation robust (HAC) using 44 lags and without small sample correction"
      ],
      "text/plain": [
       "<class 'statsmodels.iolib.summary.Summary'>\n",
       "\"\"\"\n",
       "                            OLS Regression Results                            \n",
       "==============================================================================\n",
       "Dep. Variable:           returns_next   R-squared:                       0.002\n",
       "Model:                            OLS   Adj. R-squared:                  0.002\n",
       "Method:                 Least Squares   F-statistic:                     6631.\n",
       "Date:                Sat, 29 Jun 2024   Prob (F-statistic):               0.00\n",
       "Time:                        23:31:47   Log-Likelihood:             2.4757e+07\n",
       "No. Observations:             3939822   AIC:                        -4.951e+07\n",
       "Df Residuals:                 3939820   BIC:                        -4.951e+07\n",
       "Df Model:                           1                                         \n",
       "Covariance Type:                  HAC                                         \n",
       "==============================================================================\n",
       "                 coef    std err          z      P>|z|      [0.025      0.975]\n",
       "------------------------------------------------------------------------------\n",
       "Intercept   4.952e-07   2.26e-07      2.187      0.029    5.14e-08    9.39e-07\n",
       "ofi_z       2.202e-05    2.7e-07     81.431      0.000    2.15e-05    2.25e-05\n",
       "==============================================================================\n",
       "Omnibus:                  2017399.515   Durbin-Watson:                   1.985\n",
       "Prob(Omnibus):                  0.000   Jarque-Bera (JB):      13986223540.388\n",
       "Skew:                          -0.576   Prob(JB):                         0.00\n",
       "Kurtosis:                     294.887   Cond. No.                         1.08\n",
       "==============================================================================\n",
       "\n",
       "Notes:\n",
       "[1] Standard Errors are heteroscedasticity and autocorrelation robust (HAC) using 44 lags and without small sample correction\n",
       "\"\"\""
      ]
     },
     "execution_count": 101,
     "metadata": {},
     "output_type": "execute_result"
    }
   ],
   "source": [
    "def estimate_regressions_pooled(ofi_dfs):\n",
    "    df = pd.concat(ofi_dfs)\n",
    "    df = df.dropna()\n",
    "    model = smf.ols(\"returns_next ~ ofi_z\", data=df)\n",
    "    res = model.fit(cov_type=\"HAC\", cov_kwds={\"maxlags\": int(len(df) ** 0.25)})\n",
    "    return res\n",
    "\n",
    "\n",
    "pooled_results = estimate_regressions_pooled(ofi_dfs)\n",
    "pooled_results.summary()"
   ]
  },
  {
   "cell_type": "markdown",
   "metadata": {},
   "source": [
    "We get a significant coefficient, but it's very bad at explaining the variance. So this normalized OFI does have useful information; it's a question of how to use it. Going back to the regressions for next 10s returns partitioned over the thirty minute intervals, perhaps a hypothesis to test is if the estimated $\\hat{\\beta}$ is significant in a thirty minute interval (by t-stat) then it will relatively do worse in the next thirty minute interval."
   ]
  },
  {
   "cell_type": "code",
   "execution_count": 206,
   "metadata": {},
   "outputs": [
    {
     "data": {
      "text/plain": [
       "<Axes: xlabel='time'>"
      ]
     },
     "execution_count": 206,
     "metadata": {},
     "output_type": "execute_result"
    },
    {
     "data": {
      "image/png": "[encoded data removed]",
      "text/plain": [
       "<Figure size 640x480 with 1 Axes>"
      ]
     },
     "metadata": {},
     "output_type": "display_data"
    }
   ],
   "source": [
    "def get_times(every=180):\n",
    "    df = ofi_dfs[0]\n",
    "    times = []\n",
    "    for i in range(0, len(df), every):\n",
    "        times.append(df.iloc[i].time_bucket_end)\n",
    "    return times\n",
    "\n",
    "\n",
    "times = get_times()\n",
    "assert len(times) == len(btc_results.betas_t)\n",
    "assert len(times) == len(eth_results.betas_t)\n",
    "assert len(times) == len(sol_results.betas_t)\n",
    "\n",
    "btc_t_arr = np.array(btc_results.betas_t)\n",
    "\n",
    "eth_t_arr = np.array(eth_results.betas_t)\n",
    "\n",
    "sol_t_arr = np.array(sol_results.betas_t)\n",
    "\n",
    "t_arr = np.column_stack((btc_t_arr, eth_t_arr, sol_t_arr))\n",
    "signal = -t_arr / np.abs(t_arr).sum(axis=1)[:, None]\n",
    "signal[np.isnan(signal)] = 0\n",
    "signal = signal[:-1]\n",
    "\n",
    "tradeable_times = [t + pd.Timedelta(seconds=20) for t in times[1:]]\n",
    "\n",
    "returns_arr = np.column_stack(\n",
    "    [df.loc[df.time_bucket_end.isin(tradeable_times)][\"returns\"] for df in ofi_dfs]\n",
    ")\n",
    "\n",
    "pd.DataFrame(\n",
    "    {\n",
    "        \"cumulative_returns\": (signal * returns_arr).sum(axis=1).cumsum(),\n",
    "        \"time\": tradeable_times,\n",
    "    }\n",
    ").plot(x=\"time\", y=\"cumulative_returns\")"
   ]
  },
  {
   "cell_type": "markdown",
   "metadata": {},
   "source": [
    "Well, that might just be noise. Maybe, life is simpler and we can use the OFI z-scores directly to weight a portfolio. The justification here is that the paper found that there is autocorrelation in OFI."
   ]
  },
  {
   "cell_type": "code",
   "execution_count": 208,
   "metadata": {},
   "outputs": [
    {
     "data": {
      "text/plain": [
       "<Axes: xlabel='time'>"
      ]
     },
     "execution_count": 208,
     "metadata": {},
     "output_type": "execute_result"
    },
    {
     "data": {
      "image/png": "[encoded data removed]",
      "text/plain": [
       "<Figure size 640x480 with 1 Axes>"
      ]
     },
     "metadata": {},
     "output_type": "display_data"
    }
   ],
   "source": [
    "ofi_arr = np.column_stack([df.dropna()[\"ofi_z\"] for df in ofi_dfs])\n",
    "ret_next_arr = np.column_stack([df.dropna()[\"returns_next\"] for df in ofi_dfs])\n",
    "ofi_signal = ofi_arr / np.abs(ofi_arr).sum(axis=1)[:, None]\n",
    "\n",
    "pd.DataFrame(\n",
    "    {\n",
    "        \"cumulative_returns\": (ofi_signal * ret_next_arr).sum(axis=1).cumsum(),\n",
    "        \"time\": ofi_dfs[0].dropna()[\"time_bucket_end\"],\n",
    "    }\n",
    ").plot(x=\"time\", y=\"cumulative_returns\")"
   ]
  },
  {
   "cell_type": "markdown",
   "metadata": {},
   "source": [
    "Interesting, however this doesn't account for any trading costs, bid-ask spread, and so many other things. Perhaps something similar works on a longer time scale and across many more assets. I will end here for now, however."
   ]
  },
  {
   "cell_type": "markdown",
   "metadata": {},
   "source": [
    "# Conclusion\n",
    "I guess the main takeaway is contemporaneous price change can be linearly modeled with OFI even for cryptocurrency perpetual contracts. This isn't anything new or surprising (e.g. [here](http://dspace.unive.it/bitstream/handle/10579/25649/893488-1286715.pdf?sequence=2) or [here](https://web.archive.org/web/20200325185331id_/https://link.springer.com/content/pdf/10.1007/s42521-019-00007-w.pdf)), but sometimes that's just how science works.\n",
    "\n",
    "An avenue to explore could be thinking of Binance as the main reference for prices, then perhaps the OFI on Binance could be used to predict the price changes on other exchanges."
   ]
  }
 ],
 "metadata": {
  "kernelspec": {
   "display_name": "Python 3",
   "language": "python",
   "name": "python3"
  },
  "language_info": {
   "codemirror_mode": {
    "name": "ipython",
    "version": 3
   },
   "file_extension": ".py",
   "mimetype": "text/x-python",
   "name": "python",
   "nbconvert_exporter": "python",
   "pygments_lexer": "ipython3",
   "version": "3.12.4"
  }
 },
 "nbformat": 4,
 "nbformat_minor": 2
}
